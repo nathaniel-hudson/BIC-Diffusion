{
 "metadata": {
  "language_info": {
   "codemirror_mode": {
    "name": "ipython",
    "version": 3
   },
   "file_extension": ".py",
   "mimetype": "text/x-python",
   "name": "python",
   "nbconvert_exporter": "python",
   "pygments_lexer": "ipython3",
   "version": 3
  },
  "orig_nbformat": 2,
  "kernelspec": {
   "name": "python_defaultSpec_1597032775412",
   "display_name": "Python 3.7.0 64-bit"
  }
 },
 "nbformat": 4,
 "nbformat_minor": 2,
 "cells": [
  {
   "cell_type": "code",
   "execution_count": 1,
   "metadata": {},
   "outputs": [],
   "source": [
    "import matplotlib.pyplot as plt\n",
    "import networkx as nx\n",
    "import pandas as pd\n",
    "import progressbar\n",
    "import random\n",
    "import seaborn as sns\n",
    "import time\n",
    "\n",
    "import Simulation\n",
    "\n",
    "from IPython.display import clear_output\n",
    "from Diffusion.Model       import *\n",
    "from Algorithms.Heuristics import *\n",
    "from Algorithms.Baselines  import *\n",
    "\n",
    "sns.set_style(\"darkgrid\")"
   ]
  },
  {
   "cell_type": "code",
   "execution_count": 2,
   "metadata": {},
   "outputs": [],
   "source": [
    "algorithms = [random_solution, degree_solution]\n",
    "n_trials = 50\n",
    "seed_sizes = list(range(0, 100+1, 10))\n",
    "seed_sizes[0] = 1\n",
    "time_horizon = 100\n",
    "topo_code = \"eu-core\" #\"amazon\"\n",
    "\n",
    "columns = [\"trial\", \"opinion\", \"activated\", \"algorithm\", \"seed_size\", \"alg-runtime\"]\n",
    "data = {col: [] for col in columns}\n",
    "random_seed = 16785407\n",
    "\n",
    "uniform = random.random"
   ]
  },
  {
   "cell_type": "markdown",
   "metadata": {},
   "source": [
    "# Initial Observations & To-Do's\n",
    "* First, there is ***something*** wrong with the BIC diffusion model. This is obvious because (using the random solution) when $k=1000$ we get the bizarre case where $\\sum_{v\\in V}O_v^T < 1000$. This should *not* be happening. **Investigate it.**\n",
    "* Second, the TIM+ algorithm is not fully implemented. We need to get the set of nodes that have been *visited*. This should be doable with the killed set and active set, but investigate it with the BIC diffusion model."
   ]
  },
  {
   "cell_type": "code",
   "execution_count": 3,
   "metadata": {
    "tags": []
   },
   "outputs": [
    {
     "output_type": "stream",
     "name": "stderr",
     "text": "0%|          | 0/550 [00:00<?, ?it/s]"
    },
    {
     "output_type": "error",
     "ename": "AttributeError",
     "evalue": "'hypergraph' object has no attribute '_nodes_edgesets'",
     "traceback": [
      "\u001b[0;31m---------------------------------------------------------------------------\u001b[0m",
      "\u001b[0;31mAttributeError\u001b[0m                            Traceback (most recent call last)",
      "\u001b[0;32m<ipython-input-3-b5b69fda2f45>\u001b[0m in \u001b[0;36m<module>\u001b[0;34m\u001b[0m\n\u001b[1;32m      1\u001b[0m \u001b[0mTIM_start\u001b[0m \u001b[0;34m=\u001b[0m \u001b[0mtime\u001b[0m\u001b[0;34m.\u001b[0m\u001b[0mtime\u001b[0m\u001b[0;34m(\u001b[0m\u001b[0;34m)\u001b[0m\u001b[0;34m\u001b[0m\u001b[0;34m\u001b[0m\u001b[0m\n\u001b[0;32m----> 2\u001b[0;31m df_TIM = Simulation.run(\n\u001b[0m\u001b[1;32m      3\u001b[0m     \u001b[0mtopo_code\u001b[0m\u001b[0;34m=\u001b[0m\u001b[0mtopo_code\u001b[0m\u001b[0;34m,\u001b[0m\u001b[0;34m\u001b[0m\u001b[0;34m\u001b[0m\u001b[0m\n\u001b[1;32m      4\u001b[0m     \u001b[0malgorithm\u001b[0m\u001b[0;34m=\u001b[0m\u001b[0mTIM_solution\u001b[0m\u001b[0;34m,\u001b[0m\u001b[0;34m\u001b[0m\u001b[0;34m\u001b[0m\u001b[0m\n\u001b[1;32m      5\u001b[0m     \u001b[0mseed_sizes\u001b[0m\u001b[0;34m=\u001b[0m\u001b[0mseed_sizes\u001b[0m\u001b[0;34m,\u001b[0m\u001b[0;34m\u001b[0m\u001b[0;34m\u001b[0m\u001b[0m\n",
      "\u001b[0;32m~/Development/GitHub/BIC-Diffusion/src/Simulation.py\u001b[0m in \u001b[0;36mrun\u001b[0;34m(topo_code, algorithm, seed_sizes, time_horizon, n_trials, ffm_distr_func, opinion_distr_func, threshold, random_seed, use_communities, out_dir, mode)\u001b[0m\n\u001b[1;32m    171\u001b[0m             \u001b[0;31m# Run algorithm to get seed set and record the algorithm's runtime.\u001b[0m\u001b[0;34m\u001b[0m\u001b[0;34m\u001b[0m\u001b[0;34m\u001b[0m\u001b[0m\n\u001b[1;32m    172\u001b[0m             \u001b[0mstart_time\u001b[0m \u001b[0;34m=\u001b[0m \u001b[0mtime\u001b[0m\u001b[0;34m.\u001b[0m\u001b[0mtime\u001b[0m\u001b[0;34m(\u001b[0m\u001b[0;34m)\u001b[0m\u001b[0;34m\u001b[0m\u001b[0;34m\u001b[0m\u001b[0m\n\u001b[0;32m--> 173\u001b[0;31m             \u001b[0mseed_set\u001b[0m \u001b[0;34m=\u001b[0m \u001b[0malgorithm\u001b[0m\u001b[0;34m(\u001b[0m\u001b[0mmodel\u001b[0m\u001b[0;34m,\u001b[0m \u001b[0mn_seeds\u001b[0m\u001b[0;34m)\u001b[0m\u001b[0;34m\u001b[0m\u001b[0;34m\u001b[0m\u001b[0m\n\u001b[0m\u001b[1;32m    174\u001b[0m             \u001b[0malg_runtime\u001b[0m \u001b[0;34m=\u001b[0m \u001b[0mtime\u001b[0m\u001b[0;34m.\u001b[0m\u001b[0mtime\u001b[0m\u001b[0;34m(\u001b[0m\u001b[0;34m)\u001b[0m \u001b[0;34m-\u001b[0m \u001b[0mstart_time\u001b[0m\u001b[0;34m\u001b[0m\u001b[0;34m\u001b[0m\u001b[0m\n\u001b[1;32m    175\u001b[0m \u001b[0;34m\u001b[0m\u001b[0m\n",
      "\u001b[0;32m~/Development/GitHub/BIC-Diffusion/src/Algorithms/Baselines.py\u001b[0m in \u001b[0;36mTIM_solution\u001b[0;34m(model, n_seeds, time_horizon, epsilon)\u001b[0m\n\u001b[1;32m    115\u001b[0m     \u001b[0mm\u001b[0m\u001b[0;34m,\u001b[0m \u001b[0mn\u001b[0m \u001b[0;34m=\u001b[0m \u001b[0mmodel\u001b[0m\u001b[0;34m.\u001b[0m\u001b[0mgraph\u001b[0m\u001b[0;34m.\u001b[0m\u001b[0mnumber_of_edges\u001b[0m\u001b[0;34m(\u001b[0m\u001b[0;34m)\u001b[0m\u001b[0;34m,\u001b[0m \u001b[0mmodel\u001b[0m\u001b[0;34m.\u001b[0m\u001b[0mgraph\u001b[0m\u001b[0;34m.\u001b[0m\u001b[0mnumber_of_nodes\u001b[0m\u001b[0;34m(\u001b[0m\u001b[0;34m)\u001b[0m\u001b[0;34m\u001b[0m\u001b[0;34m\u001b[0m\u001b[0m\n\u001b[1;32m    116\u001b[0m     \u001b[0mrounds\u001b[0m \u001b[0;34m=\u001b[0m \u001b[0;36m144\u001b[0m \u001b[0;34m*\u001b[0m \u001b[0;34m(\u001b[0m\u001b[0mm\u001b[0m \u001b[0;34m+\u001b[0m \u001b[0mn\u001b[0m\u001b[0;34m)\u001b[0m \u001b[0;34m*\u001b[0m \u001b[0mepsilon\u001b[0m \u001b[0;34m**\u001b[0m \u001b[0;34m(\u001b[0m\u001b[0;34m-\u001b[0m\u001b[0;36m3\u001b[0m\u001b[0;34m)\u001b[0m \u001b[0;34m*\u001b[0m \u001b[0mmath\u001b[0m\u001b[0;34m.\u001b[0m\u001b[0mlog\u001b[0m\u001b[0;34m(\u001b[0m\u001b[0mn\u001b[0m\u001b[0;34m,\u001b[0m \u001b[0;36m2\u001b[0m\u001b[0;34m)\u001b[0m\u001b[0;34m\u001b[0m\u001b[0;34m\u001b[0m\u001b[0m\n\u001b[0;32m--> 117\u001b[0;31m     \u001b[0mh_graph\u001b[0m \u001b[0;34m=\u001b[0m \u001b[0mbuild_hypergraph\u001b[0m\u001b[0;34m(\u001b[0m\u001b[0mrounds\u001b[0m\u001b[0;34m)\u001b[0m\u001b[0;34m\u001b[0m\u001b[0;34m\u001b[0m\u001b[0m\n\u001b[0m\u001b[1;32m    118\u001b[0m     \u001b[0;32mreturn\u001b[0m \u001b[0mbuild_set_set\u001b[0m\u001b[0;34m(\u001b[0m\u001b[0mh_graph\u001b[0m\u001b[0;34m,\u001b[0m \u001b[0mn_seeds\u001b[0m\u001b[0;34m)\u001b[0m\u001b[0;34m\u001b[0m\u001b[0;34m\u001b[0m\u001b[0m\n\u001b[1;32m    119\u001b[0m \u001b[0;34m\u001b[0m\u001b[0m\n",
      "\u001b[0;32m~/Development/GitHub/BIC-Diffusion/src/Algorithms/Baselines.py\u001b[0m in \u001b[0;36mbuild_hypergraph\u001b[0;34m(rounds)\u001b[0m\n\u001b[1;32m     90\u001b[0m         \u001b[0mtranspose\u001b[0m  \u001b[0;34m=\u001b[0m \u001b[0mmodel\u001b[0m\u001b[0;34m.\u001b[0m\u001b[0mgraph\u001b[0m\u001b[0;34m.\u001b[0m\u001b[0mreverse\u001b[0m\u001b[0;34m(\u001b[0m\u001b[0;34m)\u001b[0m\u001b[0;34m\u001b[0m\u001b[0;34m\u001b[0m\u001b[0m\n\u001b[1;32m     91\u001b[0m         \u001b[0mh_graph\u001b[0m \u001b[0;34m=\u001b[0m \u001b[0mhypergraph\u001b[0m\u001b[0;34m(\u001b[0m\u001b[0;34m)\u001b[0m\u001b[0;34m\u001b[0m\u001b[0;34m\u001b[0m\u001b[0m\n\u001b[0;32m---> 92\u001b[0;31m         \u001b[0mh_graph\u001b[0m\u001b[0;34m.\u001b[0m\u001b[0madd_nodes\u001b[0m\u001b[0;34m(\u001b[0m\u001b[0mmodel\u001b[0m\u001b[0;34m.\u001b[0m\u001b[0mgraph\u001b[0m\u001b[0;34m.\u001b[0m\u001b[0mnodes\u001b[0m\u001b[0;34m(\u001b[0m\u001b[0;34m)\u001b[0m\u001b[0;34m)\u001b[0m\u001b[0;34m\u001b[0m\u001b[0;34m\u001b[0m\u001b[0m\n\u001b[0m\u001b[1;32m     93\u001b[0m \u001b[0;34m\u001b[0m\u001b[0m\n\u001b[1;32m     94\u001b[0m         \u001b[0;32mfor\u001b[0m \u001b[0m_\u001b[0m \u001b[0;32min\u001b[0m \u001b[0mrange\u001b[0m\u001b[0;34m(\u001b[0m\u001b[0mrounds\u001b[0m\u001b[0;34m)\u001b[0m\u001b[0;34m:\u001b[0m\u001b[0;34m\u001b[0m\u001b[0;34m\u001b[0m\u001b[0m\n",
      "\u001b[0;32m~/Development/GitHub/BIC-Diffusion/src/Algorithms/hypergraph.py\u001b[0m in \u001b[0;36madd_nodes\u001b[0;34m(self, node_set)\u001b[0m\n\u001b[1;32m     30\u001b[0m \u001b[0;34m\u001b[0m\u001b[0m\n\u001b[1;32m     31\u001b[0m         \u001b[0;32mfor\u001b[0m \u001b[0mnode_id\u001b[0m \u001b[0;32min\u001b[0m \u001b[0mnode_set\u001b[0m\u001b[0;34m:\u001b[0m\u001b[0;34m\u001b[0m\u001b[0;34m\u001b[0m\u001b[0m\n\u001b[0;32m---> 32\u001b[0;31m             \u001b[0mself\u001b[0m\u001b[0;34m.\u001b[0m\u001b[0madd_node\u001b[0m\u001b[0;34m(\u001b[0m\u001b[0mnode_id\u001b[0m\u001b[0;34m)\u001b[0m\u001b[0;34m\u001b[0m\u001b[0;34m\u001b[0m\u001b[0m\n\u001b[0m\u001b[1;32m     33\u001b[0m \u001b[0;34m\u001b[0m\u001b[0m\n\u001b[1;32m     34\u001b[0m \u001b[0;34m\u001b[0m\u001b[0m\n",
      "\u001b[0;32m~/Development/GitHub/BIC-Diffusion/src/Algorithms/hypergraph.py\u001b[0m in \u001b[0;36madd_node\u001b[0;34m(self, node_id)\u001b[0m\n\u001b[1;32m     23\u001b[0m         \u001b[0;32melse\u001b[0m\u001b[0;34m:\u001b[0m\u001b[0;34m\u001b[0m\u001b[0;34m\u001b[0m\u001b[0m\n\u001b[1;32m     24\u001b[0m             \u001b[0mself\u001b[0m\u001b[0;34m.\u001b[0m\u001b[0mnodes\u001b[0m\u001b[0;34m.\u001b[0m\u001b[0madd\u001b[0m\u001b[0;34m(\u001b[0m\u001b[0mnode_id\u001b[0m\u001b[0;34m)\u001b[0m\u001b[0;34m\u001b[0m\u001b[0;34m\u001b[0m\u001b[0m\n\u001b[0;32m---> 25\u001b[0;31m             \u001b[0mself\u001b[0m\u001b[0;34m.\u001b[0m\u001b[0m_nodes_edgesets\u001b[0m\u001b[0;34m[\u001b[0m\u001b[0mnode_id\u001b[0m\u001b[0;34m]\u001b[0m \u001b[0;34m=\u001b[0m \u001b[0mset\u001b[0m\u001b[0;34m(\u001b[0m\u001b[0;34m)\u001b[0m\u001b[0;34m\u001b[0m\u001b[0;34m\u001b[0m\u001b[0m\n\u001b[0m\u001b[1;32m     26\u001b[0m \u001b[0;34m\u001b[0m\u001b[0m\n\u001b[1;32m     27\u001b[0m \u001b[0;34m\u001b[0m\u001b[0m\n",
      "\u001b[0;31mAttributeError\u001b[0m: 'hypergraph' object has no attribute '_nodes_edgesets'"
     ]
    }
   ],
   "source": [
    "TIM_start = time.time()\n",
    "df_TIM = Simulation.run(\n",
    "    topo_code=topo_code, \n",
    "    algorithm=TIM_solution, \n",
    "    seed_sizes=seed_sizes, \n",
    "    time_horizon=time_horizon, \n",
    "    n_trials=n_trials, \n",
    "    ffm_distr_func=uniform,\n",
    "    opinion_distr_func=uniform,\n",
    "    random_seed=None,#random_seed, \n",
    "    use_communities=False,\n",
    "    out_dir=None\n",
    ")\n",
    "TIM_runtime = time.time() - degr_start\n",
    "print(f\"\\n<> Simulation using `{TIM_solution.__name__}` took {TIM_runtime:0.5f} seconds.\")"
   ]
  },
  {
   "cell_type": "code",
   "execution_count": 4,
   "metadata": {
    "tags": [
     "outputPrepend"
    ]
   },
   "outputs": [
    {
     "output_type": "stream",
     "name": "stderr",
     "text": "▊       | 155/550 [00:12<00:47,  8.29it/s]\u001b[A\nrandom_solution, K = 30, Trial (6/50):  28%|██▊       | 155/550 [00:12<00:47,  8.29it/s]\u001b[A\nrandom_solution, K = 30, Trial (6/50):  28%|██▊       | 156/550 [00:12<00:47,  8.31it/s]\u001b[A\nrandom_solution, K = 30, Trial (7/50):  28%|██▊       | 156/550 [00:12<00:47,  8.31it/s]\u001b[A\nrandom_solution, K = 30, Trial (7/50):  29%|██▊       | 157/550 [00:12<00:57,  6.81it/s]\u001b[A\nrandom_solution, K = 30, Trial (8/50):  29%|██▊       | 157/550 [00:12<00:57,  6.81it/s]\u001b[A\nrandom_solution, K = 30, Trial (8/50):  29%|██▊       | 158/550 [00:12<00:57,  6.77it/s]\u001b[A\nrandom_solution, K = 30, Trial (9/50):  29%|██▊       | 158/550 [00:12<00:57,  6.77it/s]\u001b[A\nrandom_solution, K = 30, Trial (10/50):  29%|██▉       | 159/550 [00:12<00:57,  6.77it/s]\u001b[A\nrandom_solution, K = 30, Trial (10/50):  29%|██▉       | 160/550 [00:12<00:51,  7.56it/s]\u001b[A\nrandom_solution, K = 30, Trial (11/50):  29%|██▉       | 160/550 [00:13<00:51,  7.56it/s]\u001b[A\nrandom_solution, K = 30, Trial (11/50):  29%|██▉       | 161/550 [00:13<01:12,  5.33it/s]\u001b[A\nrandom_solution, K = 30, Trial (12/50):  29%|██▉       | 161/550 [00:13<01:12,  5.33it/s]\u001b[A\nrandom_solution, K = 30, Trial (12/50):  29%|██▉       | 162/550 [00:13<01:10,  5.48it/s]\u001b[A\nrandom_solution, K = 30, Trial (13/50):  29%|██▉       | 162/550 [00:13<01:10,  5.48it/s]\u001b[A\nrandom_solution, K = 30, Trial (14/50):  30%|██▉       | 163/550 [00:13<01:10,  5.48it/s]\u001b[A\nrandom_solution, K = 30, Trial (14/50):  30%|██▉       | 164/550 [00:13<01:03,  6.12it/s]\u001b[A\nrandom_solution, K = 30, Trial (15/50):  30%|██▉       | 164/550 [00:13<01:03,  6.12it/s]\u001b[A\nrandom_solution, K = 30, Trial (15/50):  30%|███       | 165/550 [00:13<00:58,  6.57it/s]\u001b[A\nrandom_solution, K = 30, Trial (16/50):  30%|███       | 165/550 [00:13<00:58,  6.57it/s]\u001b[A\nrandom_solution, K = 30, Trial (16/50):  30%|███       | 166/550 [00:13<00:53,  7.24it/s]\u001b[A\nrandom_solution, K = 30, Trial (17/50):  30%|███       | 166/550 [00:13<00:53,  7.24it/s]\u001b[A\nrandom_solution, K = 30, Trial (17/50):  30%|███       | 167/550 [00:13<00:58,  6.54it/s]\u001b[A\nrandom_solution, K = 30, Trial (18/50):  30%|███       | 167/550 [00:14<00:58,  6.54it/s]\u001b[A\nrandom_solution, K = 30, Trial (18/50):  31%|███       | 168/550 [00:14<00:53,  7.20it/s]\u001b[A\nrandom_solution, K = 30, Trial (19/50):  31%|███       | 168/550 [00:14<00:53,  7.20it/s]\u001b[A\nrandom_solution, K = 30, Trial (20/50):  31%|███       | 169/550 [00:14<00:52,  7.20it/s]\u001b[A\nrandom_solution, K = 30, Trial (20/50):  31%|███       | 170/550 [00:14<00:50,  7.58it/s]\u001b[A\nrandom_solution, K = 30, Trial (21/50):  31%|███       | 170/550 [00:14<00:50,  7.58it/s]\u001b[A\nrandom_solution, K = 30, Trial (21/50):  31%|███       | 171/550 [00:14<00:46,  8.07it/s]\u001b[A\nrandom_solution, K = 30, Trial (22/50):  31%|███       | 171/550 [00:14<00:46,  8.07it/s]\u001b[A\nrandom_solution, K = 30, Trial (22/50):  31%|███▏      | 172/550 [00:14<00:54,  6.89it/s]\u001b[A\nrandom_solution, K = 30, Trial (23/50):  31%|███▏      | 172/550 [00:14<00:54,  6.89it/s]\u001b[A\nrandom_solution, K = 30, Trial (23/50):  31%|███▏      | 173/550 [00:14<01:13,  5.12it/s]\u001b[A\nrandom_solution, K = 30, Trial (24/50):  31%|███▏      | 173/550 [00:14<01:13,  5.12it/s]\u001b[A\nrandom_solution, K = 30, Trial (25/50):  32%|███▏      | 174/550 [00:15<01:13,  5.12it/s]\u001b[A\nrandom_solution, K = 30, Trial (25/50):  32%|███▏      | 175/550 [00:15<01:03,  5.91it/s]\u001b[A\nrandom_solution, K = 30, Trial (26/50):  32%|███▏      | 175/550 [00:15<01:03,  5.91it/s]\u001b[A\nrandom_solution, K = 30, Trial (27/50):  32%|███▏      | 176/550 [00:15<01:03,  5.91it/s]\u001b[A\nrandom_solution, K = 30, Trial (27/50):  32%|███▏      | 177/550 [00:15<00:56,  6.58it/s]\u001b[A\nrandom_solution, K = 30, Trial (28/50):  32%|███▏      | 177/550 [00:15<00:56,  6.58it/s]\u001b[A\nrandom_solution, K = 30, Trial (28/50):  32%|███▏      | 178/550 [00:15<01:18,  4.72it/s]\u001b[A\nrandom_solution, K = 30, Trial (29/50):  32%|███▏      | 178/550 [00:15<01:18,  4.72it/s]\u001b[A\nrandom_solution, K = 30, Trial (29/50):  33%|███▎      | 179/550 [00:15<01:13,  5.08it/s]\u001b[A\nrandom_solution, K = 30, Trial (30/50):  33%|███▎      | 179/550 [00:15<01:13,  5.08it/s]\u001b[A\nrandom_solution, K = 30, Trial (30/50):  33%|███▎      | 180/550 [00:15<01:03,  5.80it/s]\u001b[A\nrandom_solution, K = 30, Trial (31/50):  33%|███▎      | 180/550 [00:16<01:03,  5.80it/s]\u001b[A\nrandom_solution, K = 30, Trial (31/50):  33%|███▎      | 181/550 [00:16<01:00,  6.06it/s]\u001b[A\nrandom_solution, K = 30, Trial (32/50):  33%|███▎      | 181/550 [00:16<01:00,  6.06it/s]\u001b[A\nrandom_solution, K = 30, Trial (32/50):  33%|███▎      | 182/550 [00:16<00:56,  6.55it/s]\u001b[A\nrandom_solution, K = 30, Trial (33/50):  33%|███▎      | 182/550 [00:16<00:56,  6.55it/s]\u001b[A\nrandom_solution, K = 30, Trial (33/50):  33%|███▎      | 183/550 [00:16<00:56,  6.49it/s]\u001b[A\nrandom_solution, K = 30, Trial (34/50):  33%|███▎      | 183/550 [00:16<00:56,  6.49it/s]\u001b[A\nrandom_solution, K = 30, Trial (34/50):  33%|███▎      | 184/550 [00:16<00:58,  6.27it/s]\u001b[A\nrandom_solution, K = 30, Trial (35/50):  33%|███▎      | 184/550 [00:16<00:58,  6.27it/s]\u001b[A\nrandom_solution, K = 30, Trial (35/50):  34%|███▎      | 185/550 [00:16<00:53,  6.80it/s]\u001b[A\nrandom_solution, K = 30, Trial (36/50):  34%|███▎      | 185/550 [00:16<00:53,  6.80it/s]\u001b[A\nrandom_solution, K = 30, Trial (37/50):  34%|███▍      | 186/550 [00:16<00:53,  6.80it/s]\u001b[A\nrandom_solution, K = 30, Trial (37/50):  34%|███▍      | 187/550 [00:16<00:47,  7.67it/s]\u001b[A\nrandom_solution, K = 30, Trial (38/50):  34%|███▍      | 187/550 [00:17<00:47,  7.67it/s]\u001b[A\nrandom_solution, K = 30, Trial (38/50):  34%|███▍      | 188/550 [00:17<00:56,  6.46it/s]\u001b[A\nrandom_solution, K = 30, Trial (39/50):  34%|███▍      | 188/550 [00:17<00:56,  6.46it/s]\u001b[A\nrandom_solution, K = 30, Trial (40/50):  34%|███▍      | 189/550 [00:17<00:55,  6.46it/s]\u001b[A\nrandom_solution, K = 30, Trial (40/50):  35%|███▍      | 190/550 [00:17<00:53,  6.75it/s]\u001b[A\nrandom_solution, K = 30, Trial (41/50):  35%|███▍      | 190/550 [00:17<00:53,  6.75it/s]\u001b[A\nrandom_solution, K = 30, Trial (41/50):  35%|███▍      | 191/550 [00:17<00:58,  6.13it/s]\u001b[A\nrandom_solution, K = 30, Trial (42/50):  35%|███▍      | 191/550 [00:17<00:58,  6.13it/s]\u001b[A\nrandom_solution, K = 30, Trial (42/50):  35%|███▍      | 192/550 [00:17<00:52,  6.82it/s]\u001b[A\nrandom_solution, K = 30, Trial (43/50):  35%|███▍      | 192/550 [00:17<00:52,  6.82it/s]\u001b[A\nrandom_solution, K = 30, Trial (43/50):  35%|███▌      | 193/550 [00:17<00:51,  6.94it/s]\u001b[A\nrandom_solution, K = 30, Trial (44/50):  35%|███▌      | 193/550 [00:18<00:51,  6.94it/s]\u001b[A\nrandom_solution, K = 30, Trial (44/50):  35%|███▌      | 194/550 [00:18<01:03,  5.60it/s]\u001b[A\nrandom_solution, K = 30, Trial (45/50):  35%|███▌      | 194/550 [00:18<01:03,  5.60it/s]\u001b[A\nrandom_solution, K = 30, Trial (45/50):  35%|███▌      | 195/550 [00:18<01:01,  5.75it/s]\u001b[A\nrandom_solution, K = 30, Trial (46/50):  35%|███▌      | 195/550 [00:18<01:01,  5.75it/s]\u001b[A\nrandom_solution, K = 30, Trial (47/50):  36%|███▌      | 196/550 [00:18<01:01,  5.75it/s]\u001b[A\nrandom_solution, K = 30, Trial (47/50):  36%|███▌      | 197/550 [00:18<00:58,  6.08it/s]\u001b[A\nrandom_solution, K = 30, Trial (48/50):  36%|███▌      | 197/550 [00:18<00:58,  6.08it/s]\u001b[A\nrandom_solution, K = 30, Trial (48/50):  36%|███▌      | 198/550 [00:18<00:52,  6.71it/s]\u001b[A\nrandom_solution, K = 30, Trial (49/50):  36%|███▌      | 198/550 [00:18<00:52,  6.71it/s]\u001b[A\nrandom_solution, K = 30, Trial (49/50):  36%|███▌      | 199/550 [00:18<00:49,  7.04it/s]\u001b[A\nrandom_solution, K = 30, Trial (50/50):  36%|███▌      | 199/550 [00:18<00:49,  7.04it/s]\u001b[A\nrandom_solution, K = 30, Trial (50/50):  36%|███▋      | 200/550 [00:18<00:57,  6.07it/s]\u001b[A\nrandom_solution, K = 40, Trial (1/50):  36%|███▋      | 200/550 [00:19<00:57,  6.07it/s]\u001b[A\nrandom_solution, K = 40, Trial (1/50):  37%|███▋      | 201/550 [00:19<01:03,  5.51it/s]\u001b[A\nrandom_solution, K = 40, Trial (2/50):  37%|███▋      | 201/550 [00:19<01:03,  5.51it/s]\u001b[A\nrandom_solution, K = 40, Trial (2/50):  37%|███▋      | 202/550 [00:19<01:00,  5.72it/s]\u001b[A\nrandom_solution, K = 40, Trial (3/50):  37%|███▋      | 202/550 [00:19<01:00,  5.72it/s]\u001b[A\nrandom_solution, K = 40, Trial (4/50):  37%|███▋      | 203/550 [00:19<01:00,  5.72it/s]\u001b[A\nrandom_solution, K = 40, Trial (4/50):  37%|███▋      | 204/550 [00:19<00:50,  6.82it/s]\u001b[A\nrandom_solution, K = 40, Trial (5/50):  37%|███▋      | 204/550 [00:19<00:50,  6.82it/s]\u001b[A\nrandom_solution, K = 40, Trial (5/50):  37%|███▋      | 205/550 [00:19<00:51,  6.68it/s]\u001b[A\nrandom_solution, K = 40, Trial (6/50):  37%|███▋      | 205/550 [00:19<00:51,  6.68it/s]\u001b[A\nrandom_solution, K = 40, Trial (6/50):  37%|███▋      | 206/550 [00:19<00:48,  7.11it/s]\u001b[A\nrandom_solution, K = 40, Trial (7/50):  37%|███▋      | 206/550 [00:19<00:48,  7.11it/s]\u001b[A\nrandom_solution, K = 40, Trial (7/50):  38%|███▊      | 207/550 [00:19<00:58,  5.87it/s]\u001b[A\nrandom_solution, K = 40, Trial (8/50):  38%|███▊      | 207/550 [00:20<00:58,  5.87it/s]\u001b[A\nrandom_solution, K = 40, Trial (8/50):  38%|███▊      | 208/550 [00:20<01:19,  4.30it/s]\u001b[A\nrandom_solution, K = 40, Trial (9/50):  38%|███▊      | 208/550 [00:20<01:19,  4.30it/s]\u001b[A\nrandom_solution, K = 40, Trial (9/50):  38%|███▊      | 209/550 [00:20<01:09,  4.91it/s]\u001b[A\nrandom_solution, K = 40, Trial (10/50):  38%|███▊      | 209/550 [00:20<01:09,  4.91it/s]\u001b[A\nrandom_solution, K = 40, Trial (11/50):  38%|███▊      | 210/550 [00:20<01:09,  4.91it/s]\u001b[A\nrandom_solution, K = 40, Trial (11/50):  38%|███▊      | 211/550 [00:20<01:01,  5.51it/s]\u001b[A\nrandom_solution, K = 40, Trial (12/50):  38%|███▊      | 211/550 [00:20<01:01,  5.51it/s]\u001b[A\nrandom_solution, K = 40, Trial (12/50):  39%|███▊      | 212/550 [00:20<00:57,  5.88it/s]\u001b[A\nrandom_solution, K = 40, Trial (13/50):  39%|███▊      | 212/550 [00:21<00:57,  5.88it/s]\u001b[A\nrandom_solution, K = 40, Trial (13/50):  39%|███▊      | 213/550 [00:21<01:01,  5.45it/s]\u001b[A\nrandom_solution, K = 40, Trial (14/50):  39%|███▊      | 213/550 [00:21<01:01,  5.45it/s]\u001b[A\nrandom_solution, K = 40, Trial (14/50):  39%|███▉      | 214/550 [00:21<01:00,  5.55it/s]\u001b[A\nrandom_solution, K = 40, Trial (15/50):  39%|███▉      | 214/550 [00:21<01:00,  5.55it/s]\u001b[A\nrandom_solution, K = 40, Trial (15/50):  39%|███▉      | 215/550 [00:21<00:54,  6.19it/s]\u001b[A\nrandom_solution, K = 40, Trial (16/50):  39%|███▉      | 215/550 [00:21<00:54,  6.19it/s]\u001b[A\nrandom_solution, K = 40, Trial (16/50):  39%|███▉      | 216/550 [00:21<00:51,  6.50it/s]\u001b[A\nrandom_solution, K = 40, Trial (17/50):  39%|███▉      | 216/550 [00:21<00:51,  6.50it/s]\u001b[A\nrandom_solution, K = 40, Trial (17/50):  39%|███▉      | 217/550 [00:21<00:49,  6.75it/s]\u001b[A\nrandom_solution, K = 40, Trial (18/50):  39%|███▉      | 217/550 [00:21<00:49,  6.75it/s]\u001b[A\nrandom_solution, K = 40, Trial (18/50):  40%|███▉      | 218/550 [00:21<00:51,  6.42it/s]\u001b[A\nrandom_solution, K = 40, Trial (19/50):  40%|███▉      | 218/550 [00:22<00:51,  6.42it/s]\u001b[A\nrandom_solution, K = 40, Trial (19/50):  40%|███▉      | 219/550 [00:22<00:56,  5.84it/s]\u001b[A\nrandom_solution, K = 40, Trial (20/50):  40%|███▉      | 219/550 [00:22<00:56,  5.84it/s]\u001b[A\nrandom_solution, K = 40, Trial (21/50):  40%|████      | 220/550 [00:22<00:56,  5.84it/s]\u001b[A\nrandom_solution, K = 40, Trial (21/50):  40%|████      | 221/550 [00:22<00:52,  6.22it/s]\u001b[A\nrandom_solution, K = 40, Trial (22/50):  40%|████      | 221/550 [00:22<00:52,  6.22it/s]\u001b[A\nrandom_solution, K = 40, Trial (22/50):  40%|████      | 222/550 [00:22<00:47,  6.97it/s]\u001b[A\nrandom_solution, K = 40, Trial (23/50):  40%|████      | 222/550 [00:22<00:47,  6.97it/s]\u001b[A\nrandom_solution, K = 40, Trial (23/50):  41%|████      | 223/550 [00:22<00:45,  7.21it/s]\u001b[A\nrandom_solution, K = 40, Trial (24/50):  41%|████      | 223/550 [00:22<00:45,  7.21it/s]\u001b[A\nrandom_solution, K = 40, Trial (24/50):  41%|████      | 224/550 [00:22<00:51,  6.37it/s]\u001b[A\nrandom_solution, K = 40, Trial (25/50):  41%|████      | 224/550 [00:22<00:51,  6.37it/s]\u001b[A\nrandom_solution, K = 40, Trial (25/50):  41%|████      | 225/550 [00:22<00:47,  6.90it/s]\u001b[A\nrandom_solution, K = 40, Trial (26/50):  41%|████      | 225/550 [00:23<00:47,  6.90it/s]\u001b[A\nrandom_solution, K = 40, Trial (26/50):  41%|████      | 226/550 [00:23<01:01,  5.24it/s]\u001b[A\nrandom_solution, K = 40, Trial (27/50):  41%|████      | 226/550 [00:23<01:01,  5.24it/s]\u001b[A\nrandom_solution, K = 40, Trial (27/50):  41%|████▏     | 227/550 [00:23<01:09,  4.68it/s]\u001b[A\nrandom_solution, K = 40, Trial (28/50):  41%|████▏     | 227/550 [00:23<01:09,  4.68it/s]\u001b[A\nrandom_solution, K = 40, Trial (28/50):  41%|████▏     | 228/550 [00:23<01:00,  5.36it/s]\u001b[A\nrandom_solution, K = 40, Trial (29/50):  41%|████▏     | 228/550 [00:23<01:00,  5.36it/s]\u001b[A\nrandom_solution, K = 40, Trial (29/50):  42%|████▏     | 229/550 [00:23<00:54,  5.87it/s]\u001b[A\nrandom_solution, K = 40, Trial (30/50):  42%|████▏     | 229/550 [00:24<00:54,  5.87it/s]\u001b[A\nrandom_solution, K = 40, Trial (30/50):  42%|████▏     | 230/550 [00:24<01:07,  4.71it/s]\u001b[A\nrandom_solution, K = 40, Trial (31/50):  42%|████▏     | 230/550 [00:24<01:07,  4.71it/s]\u001b[A\nrandom_solution, K = 40, Trial (31/50):  42%|████▏     | 231/550 [00:24<01:05,  4.85it/s]\u001b[A\nrandom_solution, K = 40, Trial (32/50):  42%|████▏     | 231/550 [00:24<01:05,  4.85it/s]\u001b[A\nrandom_solution, K = 40, Trial (32/50):  42%|████▏     | 232/550 [00:24<01:06,  4.76it/s]\u001b[A\nrandom_solution, K = 40, Trial (33/50):  42%|████▏     | 232/550 [00:24<01:06,  4.76it/s]\u001b[A\nrandom_solution, K = 40, Trial (33/50):  42%|████▏     | 233/550 [00:24<01:01,  5.13it/s]\u001b[A\nrandom_solution, K = 40, Trial (34/50):  42%|████▏     | 233/550 [00:24<01:01,  5.13it/s]\u001b[A\nrandom_solution, K = 40, Trial (34/50):  43%|████▎     | 234/550 [00:24<00:55,  5.70it/s]\u001b[A\nrandom_solution, K = 40, Trial (35/50):  43%|████▎     | 234/550 [00:24<00:55,  5.70it/s]\u001b[A\nrandom_solution, K = 40, Trial (36/50):  43%|████▎     | 235/550 [00:24<00:55,  5.70it/s]\u001b[A\nrandom_solution, K = 40, Trial (36/50):  43%|████▎     | 236/550 [00:24<00:47,  6.64it/s]\u001b[A\nrandom_solution, K = 40, Trial (37/50):  43%|████▎     | 236/550 [00:25<00:47,  6.64it/s]\u001b[A\nrandom_solution, K = 40, Trial (37/50):  43%|████▎     | 237/550 [00:25<00:44,  7.00it/s]\u001b[A\nrandom_solution, K = 40, Trial (38/50):  43%|████▎     | 237/550 [00:25<00:44,  7.00it/s]\u001b[A\nrandom_solution, K = 40, Trial (38/50):  43%|████▎     | 238/550 [00:25<00:51,  6.00it/s]\u001b[A\nrandom_solution, K = 40, Trial (39/50):  43%|████▎     | 238/550 [00:25<00:51,  6.00it/s]\u001b[A\nrandom_solution, K = 40, Trial (39/50):  43%|████▎     | 239/550 [00:25<00:49,  6.33it/s]\u001b[A\nrandom_solution, K = 40, Trial (40/50):  43%|████▎     | 239/550 [00:25<00:49,  6.33it/s]\u001b[A\nrandom_solution, K = 40, Trial (40/50):  44%|████▎     | 240/550 [00:25<00:47,  6.54it/s]\u001b[A\nrandom_solution, K = 40, Trial (41/50):  44%|████▎     | 240/550 [00:25<00:47,  6.54it/s]\u001b[A\nrandom_solution, K = 40, Trial (41/50):  44%|████▍     | 241/550 [00:25<00:47,  6.48it/s]\u001b[A\nrandom_solution, K = 40, Trial (42/50):  44%|████▍     | 241/550 [00:25<00:47,  6.48it/s]\u001b[A\nrandom_solution, K = 40, Trial (42/50):  44%|████▍     | 242/550 [00:25<00:49,  6.17it/s]\u001b[A\nrandom_solution, K = 40, Trial (43/50):  44%|████▍     | 242/550 [00:26<00:49,  6.17it/s]\u001b[A\nrandom_solution, K = 40, Trial (43/50):  44%|████▍     | 243/550 [00:26<00:57,  5.33it/s]\u001b[A\nrandom_solution, K = 40, Trial (44/50):  44%|████▍     | 243/550 [00:26<00:57,  5.33it/s]\u001b[A\nrandom_solution, K = 40, Trial (44/50):  44%|████▍     | 244/550 [00:26<00:59,  5.16it/s]\u001b[A\nrandom_solution, K = 40, Trial (45/50):  44%|████▍     | 244/550 [00:26<00:59,  5.16it/s]\u001b[A\nrandom_solution, K = 40, Trial (45/50):  45%|████▍     | 245/550 [00:26<01:00,  5.04it/s]\u001b[A\nrandom_solution, K = 40, Trial (46/50):  45%|████▍     | 245/550 [00:26<01:00,  5.04it/s]\u001b[A\nrandom_solution, K = 40, Trial (46/50):  45%|████▍     | 246/550 [00:26<00:55,  5.47it/s]\u001b[A\nrandom_solution, K = 40, Trial (47/50):  45%|████▍     | 246/550 [00:26<00:55,  5.47it/s]\u001b[A\nrandom_solution, K = 40, Trial (48/50):  45%|████▍     | 247/550 [00:26<00:55,  5.47it/s]\u001b[A\nrandom_solution, K = 40, Trial (48/50):  45%|████▌     | 248/550 [00:26<00:51,  5.88it/s]\u001b[A\nrandom_solution, K = 40, Trial (49/50):  45%|████▌     | 248/550 [00:27<00:51,  5.88it/s]\u001b[A\nrandom_solution, K = 40, Trial (49/50):  45%|████▌     | 249/550 [00:27<00:46,  6.48it/s]\u001b[A\nrandom_solution, K = 40, Trial (50/50):  45%|████▌     | 249/550 [00:27<00:46,  6.48it/s]\u001b[A\nrandom_solution, K = 40, Trial (50/50):  45%|████▌     | 250/550 [00:27<00:52,  5.69it/s]\u001b[A\nrandom_solution, K = 50, Trial (1/50):  45%|████▌     | 250/550 [00:27<00:52,  5.69it/s]\u001b[A\nrandom_solution, K = 50, Trial (1/50):  46%|████▌     | 251/550 [00:27<01:03,  4.70it/s]\u001b[A\nrandom_solution, K = 50, Trial (2/50):  46%|████▌     | 251/550 [00:27<01:03,  4.70it/s]\u001b[A\nrandom_solution, K = 50, Trial (2/50):  46%|████▌     | 252/550 [00:27<01:08,  4.34it/s]\u001b[A\nrandom_solution, K = 50, Trial (3/50):  46%|████▌     | 252/550 [00:28<01:08,  4.34it/s]\u001b[A\nrandom_solution, K = 50, Trial (3/50):  46%|████▌     | 253/550 [00:28<01:07,  4.38it/s]\u001b[A\nrandom_solution, K = 50, Trial (4/50):  46%|████▌     | 253/550 [00:28<01:07,  4.38it/s]\u001b[A\nrandom_solution, K = 50, Trial (4/50):  46%|████▌     | 254/550 [00:28<01:02,  4.71it/s]\u001b[A\nrandom_solution, K = 50, Trial (5/50):  46%|████▌     | 254/550 [00:28<01:02,  4.71it/s]\u001b[A\nrandom_solution, K = 50, Trial (5/50):  46%|████▋     | 255/550 [00:28<00:54,  5.43it/s]\u001b[A\nrandom_solution, K = 50, Trial (6/50):  46%|████▋     | 255/550 [00:28<00:54,  5.43it/s]\u001b[A\nrandom_solution, K = 50, Trial (6/50):  47%|████▋     | 256/550 [00:28<01:02,  4.73it/s]\u001b[A\nrandom_solution, K = 50, Trial (7/50):  47%|████▋     | 256/550 [00:28<01:02,  4.73it/s]\u001b[A\nrandom_solution, K = 50, Trial (7/50):  47%|████▋     | 257/550 [00:28<01:02,  4.70it/s]\u001b[A\nrandom_solution, K = 50, Trial (8/50):  47%|████▋     | 257/550 [00:28<01:02,  4.70it/s]\u001b[A\nrandom_solution, K = 50, Trial (9/50):  47%|████▋     | 258/550 [00:29<01:02,  4.70it/s]\u001b[A\nrandom_solution, K = 50, Trial (9/50):  47%|████▋     | 259/550 [00:29<00:56,  5.16it/s]\u001b[A\nrandom_solution, K = 50, Trial (10/50):  47%|████▋     | 259/550 [00:29<00:56,  5.16it/s]\u001b[A\nrandom_solution, K = 50, Trial (10/50):  47%|████▋     | 260/550 [00:29<00:54,  5.35it/s]\u001b[A\nrandom_solution, K = 50, Trial (11/50):  47%|████▋     | 260/550 [00:29<00:54,  5.35it/s]\u001b[A\nrandom_solution, K = 50, Trial (11/50):  47%|████▋     | 261/550 [00:29<00:55,  5.18it/s]\u001b[A\nrandom_solution, K = 50, Trial (12/50):  47%|████▋     | 261/550 [00:29<00:55,  5.18it/s]\u001b[A\nrandom_solution, K = 50, Trial (12/50):  48%|████▊     | 262/550 [00:29<01:00,  4.77it/s]\u001b[A\nrandom_solution, K = 50, Trial (13/50):  48%|████▊     | 262/550 [00:29<01:00,  4.77it/s]\u001b[A\nrandom_solution, K = 50, Trial (13/50):  48%|████▊     | 263/550 [00:29<00:53,  5.35it/s]\u001b[A\nrandom_solution, K = 50, Trial (14/50):  48%|████▊     | 263/550 [00:30<00:53,  5.35it/s]\u001b[A\nrandom_solution, K = 50, Trial (14/50):  48%|████▊     | 264/550 [00:30<00:50,  5.69it/s]\u001b[A\nrandom_solution, K = 50, Trial (15/50):  48%|████▊     | 264/550 [00:30<00:50,  5.69it/s]\u001b[A\nrandom_solution, K = 50, Trial (15/50):  48%|████▊     | 265/550 [00:30<00:51,  5.56it/s]\u001b[A\nrandom_solution, K = 50, Trial (16/50):  48%|████▊     | 265/550 [00:30<00:51,  5.56it/s]\u001b[A\nrandom_solution, K = 50, Trial (16/50):  48%|████▊     | 266/550 [00:30<00:48,  5.91it/s]\u001b[A\nrandom_solution, K = 50, Trial (17/50):  48%|████▊     | 266/550 [00:30<00:48,  5.91it/s]\u001b[A\nrandom_solution, K = 50, Trial (17/50):  49%|████▊     | 267/550 [00:30<00:51,  5.51it/s]\u001b[A\nrandom_solution, K = 50, Trial (18/50):  49%|████▊     | 267/550 [00:30<00:51,  5.51it/s]\u001b[A\nrandom_solution, K = 50, Trial (18/50):  49%|████▊     | 268/550 [00:30<00:47,  5.99it/s]\u001b[A\nrandom_solution, K = 50, Trial (19/50):  49%|████▊     | 268/550 [00:30<00:47,  5.99it/s]\u001b[A\nrandom_solution, K = 50, Trial (19/50):  49%|████▉     | 269/550 [00:30<00:47,  5.90it/s]\u001b[A\nrandom_solution, K = 50, Trial (20/50):  49%|████▉     | 269/550 [00:31<00:47,  5.90it/s]\u001b[A\n"
    }
   ],
   "source": [
    "rand_start = time.time()\n",
    "df_rand = Simulation.run(\n",
    "    topo_code=topo_code, \n",
    "    algorithm=random_solution, \n",
    "    seed_sizes=seed_sizes, \n",
    "    time_horizon=time_horizon, \n",
    "    n_trials=n_trials, \n",
    "    ffm_distr_func=uniform,\n",
    "    opinion_distr_func=uniform,\n",
    "    random_seed=None,#random_seed, \n",
    "    use_communities=False,\n",
    "    out_dir=None\n",
    ")\n",
    "rand_runtime = time.time() - rand_start\n",
    "print(f\"<> Simulation using `{random_solution.__name__}` took {rand_runtime:0.5f} seconds.\")"
   ]
  },
  {
   "cell_type": "code",
   "execution_count": null,
   "metadata": {},
   "outputs": [],
   "source": [
    "degr_start = time.time()\n",
    "df_degr = Simulation.run(\n",
    "    topo_code=topo_code, \n",
    "    algorithm=degree_solution, \n",
    "    seed_sizes=seed_sizes, \n",
    "    time_horizon=time_horizon, \n",
    "    n_trials=n_trials, \n",
    "    ffm_distr_func=uniform,\n",
    "    opinion_distr_func=uniform,\n",
    "    random_seed=None,#random_seed, \n",
    "    use_communities=False,\n",
    "    out_dir=None\n",
    ")\n",
    "degr_runtime = time.time() - degr_start\n",
    "print(f\"\\n<> Simulation using `{degree_solution.__name__}` took {degr_runtime:0.5f} seconds.\")"
   ]
  },
  {
   "cell_type": "code",
   "execution_count": null,
   "metadata": {
    "tags": []
   },
   "outputs": [],
   "source": [
    "df = df_rand.copy()\n",
    "df = df.append(df_degr)\n",
    "df = df.append(df_TIM)\n",
    "sns.lineplot(x=\"seed_size\", y=\"opinion\", markers=\"os*\", err_style=\"bars\", style=\"algorithm\", hue=\"algorithm\", data=df)\n",
    "plt.show()\n",
    "\n",
    "sns.barplot(x=\"seed_size\", y=\"activated\", hue=\"algorithm\", data=df)\n",
    "plt.show()"
   ]
  },
  {
   "cell_type": "code",
   "execution_count": 19,
   "metadata": {
    "tags": []
   },
   "outputs": [
    {
     "output_type": "execute_result",
     "data": {
      "text/plain": "   trial        opinion  activated        algorithm  seed_size  algorithm time\n0      0  167435.780858          1  random_solution          1        0.005466\n1      1  167436.022168          1  random_solution          1        0.009532\n2      2  167436.989482          2  random_solution          1        0.008146\n3      3  167438.472127          2  random_solution          1        0.009428\n4      4  167439.459651          1  random_solution          1        0.007761",
      "text/html": "<div>\n<style scoped>\n    .dataframe tbody tr th:only-of-type {\n        vertical-align: middle;\n    }\n\n    .dataframe tbody tr th {\n        vertical-align: top;\n    }\n\n    .dataframe thead th {\n        text-align: right;\n    }\n</style>\n<table border=\"1\" class=\"dataframe\">\n  <thead>\n    <tr style=\"text-align: right;\">\n      <th></th>\n      <th>trial</th>\n      <th>opinion</th>\n      <th>activated</th>\n      <th>algorithm</th>\n      <th>seed_size</th>\n      <th>algorithm time</th>\n    </tr>\n  </thead>\n  <tbody>\n    <tr>\n      <th>0</th>\n      <td>0</td>\n      <td>167435.780858</td>\n      <td>1</td>\n      <td>random_solution</td>\n      <td>1</td>\n      <td>0.005466</td>\n    </tr>\n    <tr>\n      <th>1</th>\n      <td>1</td>\n      <td>167436.022168</td>\n      <td>1</td>\n      <td>random_solution</td>\n      <td>1</td>\n      <td>0.009532</td>\n    </tr>\n    <tr>\n      <th>2</th>\n      <td>2</td>\n      <td>167436.989482</td>\n      <td>2</td>\n      <td>random_solution</td>\n      <td>1</td>\n      <td>0.008146</td>\n    </tr>\n    <tr>\n      <th>3</th>\n      <td>3</td>\n      <td>167438.472127</td>\n      <td>2</td>\n      <td>random_solution</td>\n      <td>1</td>\n      <td>0.009428</td>\n    </tr>\n    <tr>\n      <th>4</th>\n      <td>4</td>\n      <td>167439.459651</td>\n      <td>1</td>\n      <td>random_solution</td>\n      <td>1</td>\n      <td>0.007761</td>\n    </tr>\n  </tbody>\n</table>\n</div>"
     },
     "metadata": {},
     "execution_count": 19
    }
   ],
   "source": [
    "df.head()"
   ]
  },
  {
   "cell_type": "code",
   "execution_count": null,
   "metadata": {},
   "outputs": [],
   "source": []
  }
 ]
}