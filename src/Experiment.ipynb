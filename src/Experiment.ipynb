{
 "metadata": {
  "language_info": {
   "codemirror_mode": {
    "name": "ipython",
    "version": 3
   },
   "file_extension": ".py",
   "mimetype": "text/x-python",
   "name": "python",
   "nbconvert_exporter": "python",
   "pygments_lexer": "ipython3",
   "version": 3
  },
  "orig_nbformat": 2,
  "kernelspec": {
   "name": "python_defaultSpec_1596931320538",
   "display_name": "Python 3.7.0 64-bit"
  }
 },
 "nbformat": 4,
 "nbformat_minor": 2,
 "cells": [
  {
   "cell_type": "code",
   "execution_count": 17,
   "metadata": {},
   "outputs": [],
   "source": [
    "import matplotlib.pyplot as plt\n",
    "import networkx as nx\n",
    "import pandas as pd\n",
    "import progressbar\n",
    "import random\n",
    "import seaborn as sns\n",
    "import time\n",
    "\n",
    "from IPython.display import clear_output\n",
    "from Diffusion.Model       import *\n",
    "from Algorithms.Heuristics import *\n",
    "\n",
    "sns.set_style(\"darkgrid\")"
   ]
  },
  {
   "cell_type": "code",
   "execution_count": 20,
   "metadata": {},
   "outputs": [],
   "source": [
    "algorithms = [random_solution, degree_solution]\n",
    "n_trials = 10\n",
    "seed_set_sizes = list(range(0, 1000+1, 100))\n",
    "seed_set_sizes[0] = 1\n",
    "time_horizon = 100\n",
    "\n",
    "columns = [\"trial\", \"opinion\", \"activated\", \"algorithm\", \"seed_size\", \"alg-runtime\"]\n",
    "data = {col: [] for col in columns}"
   ]
  },
  {
   "cell_type": "code",
   "execution_count": 22,
   "metadata": {
    "tags": []
   },
   "outputs": [
    {
     "output_type": "stream",
     "name": "stderr",
     "text": "0% |                                                                        |"
    },
    {
     "output_type": "error",
     "ename": "TypeError",
     "evalue": "unsupported operand type(s) for -: 'set' and 'list'",
     "traceback": [
      "\u001b[0;31m---------------------------------------------------------------------------\u001b[0m",
      "\u001b[0;31mTypeError\u001b[0m                                 Traceback (most recent call last)",
      "\u001b[0;32m<ipython-input-22-473931492390>\u001b[0m in \u001b[0;36m<module>\u001b[0;34m\u001b[0m\n\u001b[1;32m     16\u001b[0m \u001b[0;34m\u001b[0m\u001b[0m\n\u001b[1;32m     17\u001b[0m             \u001b[0;32mfor\u001b[0m \u001b[0mt_step\u001b[0m \u001b[0;32min\u001b[0m \u001b[0mrange\u001b[0m\u001b[0;34m(\u001b[0m\u001b[0mtime_horizon\u001b[0m\u001b[0;34m+\u001b[0m\u001b[0;36m1\u001b[0m\u001b[0;34m)\u001b[0m\u001b[0;34m:\u001b[0m\u001b[0;34m\u001b[0m\u001b[0m\n\u001b[0;32m---> 18\u001b[0;31m                 \u001b[0mactive_set\u001b[0m\u001b[0;34m,\u001b[0m \u001b[0mkilled_set\u001b[0m \u001b[0;34m=\u001b[0m \u001b[0mmodel\u001b[0m\u001b[0;34m.\u001b[0m\u001b[0mdiffuse\u001b[0m\u001b[0;34m(\u001b[0m\u001b[0mactive_set\u001b[0m\u001b[0;34m,\u001b[0m \u001b[0mkilled_set\u001b[0m\u001b[0;34m,\u001b[0m \u001b[0mt_step\u001b[0m\u001b[0;34m)\u001b[0m\u001b[0;34m\u001b[0m\u001b[0m\n\u001b[0m\u001b[1;32m     19\u001b[0m \u001b[0;34m\u001b[0m\u001b[0m\n\u001b[1;32m     20\u001b[0m             \u001b[0mdata\u001b[0m\u001b[0;34m[\u001b[0m\u001b[0;34m\"trial\"\u001b[0m\u001b[0;34m]\u001b[0m\u001b[0;34m.\u001b[0m\u001b[0mappend\u001b[0m\u001b[0;34m(\u001b[0m\u001b[0mtrial\u001b[0m\u001b[0;34m)\u001b[0m\u001b[0;34m\u001b[0m\u001b[0m\n",
      "\u001b[0;32m~/Development/GitHub/BIC-Diffusion/src/Diffusion/Model.py\u001b[0m in \u001b[0;36mdiffuse\u001b[0;34m(self, active_set, killed_set, t, threshold)\u001b[0m\n\u001b[1;32m     90\u001b[0m             \u001b[0mself\u001b[0m\u001b[0;34m.\u001b[0m\u001b[0mattempts\u001b[0m\u001b[0;34m[\u001b[0m\u001b[0mactive_node\u001b[0m\u001b[0;34m]\u001b[0m \u001b[0;34m+=\u001b[0m \u001b[0;36m1\u001b[0m\u001b[0;34m\u001b[0m\u001b[0m\n\u001b[1;32m     91\u001b[0m \u001b[0;34m\u001b[0m\u001b[0m\n\u001b[0;32m---> 92\u001b[0;31m             \u001b[0mneighbors\u001b[0m \u001b[0;34m=\u001b[0m \u001b[0mset\u001b[0m\u001b[0;34m(\u001b[0m\u001b[0mself\u001b[0m\u001b[0;34m.\u001b[0m\u001b[0mgraph\u001b[0m\u001b[0;34m.\u001b[0m\u001b[0mneighbors\u001b[0m\u001b[0;34m(\u001b[0m\u001b[0mactive_node\u001b[0m\u001b[0;34m)\u001b[0m\u001b[0;34m)\u001b[0m \u001b[0;34m-\u001b[0m \u001b[0mactive_set\u001b[0m\u001b[0;34m\u001b[0m\u001b[0m\n\u001b[0m\u001b[1;32m     93\u001b[0m             \u001b[0;32mfor\u001b[0m \u001b[0mneighbor\u001b[0m \u001b[0;32min\u001b[0m \u001b[0mneighbors\u001b[0m\u001b[0;34m:\u001b[0m\u001b[0;34m\u001b[0m\u001b[0m\n\u001b[1;32m     94\u001b[0m                 \u001b[0;32mif\u001b[0m \u001b[0mrd\u001b[0m\u001b[0;34m.\u001b[0m\u001b[0mrandom\u001b[0m\u001b[0;34m(\u001b[0m\u001b[0;34m)\u001b[0m \u001b[0;34m<=\u001b[0m \u001b[0mself\u001b[0m\u001b[0;34m.\u001b[0m\u001b[0mprop_prob\u001b[0m\u001b[0;34m(\u001b[0m\u001b[0mactive_node\u001b[0m\u001b[0;34m,\u001b[0m \u001b[0mneighbor\u001b[0m\u001b[0;34m,\u001b[0m \u001b[0mt\u001b[0m\u001b[0;34m)\u001b[0m\u001b[0;34m:\u001b[0m\u001b[0;34m\u001b[0m\u001b[0m\n",
      "\u001b[0;31mTypeError\u001b[0m: unsupported operand type(s) for -: 'set' and 'list'"
     ]
    }
   ],
   "source": [
    "i = 0\n",
    "pbar = progressbar.ProgressBar(maxval=n_trials*len(seed_set_sizes)).start()\n",
    "for trial in range(n_trials):\n",
    "    graph = nx.barabasi_albert_graph(10000, 100)\n",
    "    opinion = np.array([random.random() for user in graph.nodes()])\n",
    "    ffm = {user: {factor: random.random() for factor in \"OCEAN\"} for user in graph.nodes()}\n",
    "    model = BIC(graph, ffm, opinion)\n",
    "    model.prepare()\n",
    "\n",
    "    for n_seeds in seed_set_sizes:\n",
    "        for algorithm in algorithms:\n",
    "            start_time = time.time()\n",
    "            active_set = algorithm(model, n_seeds)\n",
    "            killed_set = set()\n",
    "            runtime = time.time() - start_time\n",
    "\n",
    "            for t_step in range(time_horizon+1):\n",
    "                active_set, killed_set = model.diffuse(active_set, killed_set, t_step)\n",
    "\n",
    "            data[\"trial\"].append(trial)\n",
    "            data[\"opinion\"].append(model.total_opinion())\n",
    "            data[\"activated\"].append(len(active_set.union(killed_set)))\n",
    "            data[\"algorithm\"].append(algorithm.__name__)\n",
    "            data[\"seed_size\"].append(n_seeds)\n",
    "            data[\"alg-runtime\"].append(runtime)\n",
    "\n",
    "            # Update the progressbar.\n",
    "            i += 1\n",
    "            pbar.update(i)\n",
    "            clear_output(wait=True)"
   ]
  },
  {
   "cell_type": "code",
   "execution_count": null,
   "metadata": {},
   "outputs": [],
   "source": []
  }
 ]
}